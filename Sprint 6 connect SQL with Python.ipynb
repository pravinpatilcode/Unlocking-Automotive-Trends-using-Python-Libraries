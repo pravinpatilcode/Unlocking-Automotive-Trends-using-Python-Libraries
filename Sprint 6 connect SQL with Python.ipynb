{
 "cells": [
  {
   "cell_type": "code",
   "execution_count": 1,
   "id": "cef44b60",
   "metadata": {},
   "outputs": [],
   "source": [
    "# TASK 1\n",
    "#importing mysql.connector\n",
    "import mysql.connector as sql"
   ]
  },
  {
   "cell_type": "code",
   "execution_count": 2,
   "id": "999cf691",
   "metadata": {},
   "outputs": [
    {
     "ename": "ProgrammingError",
     "evalue": "1045 (28000): Access denied for user 'root'@'localhost' (using password: YES)",
     "output_type": "error",
     "traceback": [
      "\u001b[1;31m---------------------------------------------------------------------------\u001b[0m",
      "\u001b[1;31mMySQLInterfaceError\u001b[0m                       Traceback (most recent call last)",
      "File \u001b[1;32m~\\anaconda3\\Lib\\site-packages\\mysql\\connector\\connection_cext.py:334\u001b[0m, in \u001b[0;36mCMySQLConnection._open_connection\u001b[1;34m(self)\u001b[0m\n\u001b[0;32m    333\u001b[0m \u001b[38;5;28;01mtry\u001b[39;00m:\n\u001b[1;32m--> 334\u001b[0m     \u001b[38;5;28mself\u001b[39m\u001b[38;5;241m.\u001b[39m_cmysql\u001b[38;5;241m.\u001b[39mconnect(\u001b[38;5;241m*\u001b[39m\u001b[38;5;241m*\u001b[39mcnx_kwargs)\n\u001b[0;32m    335\u001b[0m     \u001b[38;5;28mself\u001b[39m\u001b[38;5;241m.\u001b[39m_cmysql\u001b[38;5;241m.\u001b[39mconverter_str_fallback \u001b[38;5;241m=\u001b[39m \u001b[38;5;28mself\u001b[39m\u001b[38;5;241m.\u001b[39m_converter_str_fallback\n",
      "\u001b[1;31mMySQLInterfaceError\u001b[0m: Access denied for user 'root'@'localhost' (using password: YES)",
      "\nThe above exception was the direct cause of the following exception:\n",
      "\u001b[1;31mProgrammingError\u001b[0m                          Traceback (most recent call last)",
      "Cell \u001b[1;32mIn[2], line 2\u001b[0m\n\u001b[0;32m      1\u001b[0m \u001b[38;5;66;03m#connecting to the SQL \u001b[39;00m\n\u001b[1;32m----> 2\u001b[0m db_hr \u001b[38;5;241m=\u001b[39m sql\u001b[38;5;241m.\u001b[39mconnect(host \u001b[38;5;241m=\u001b[39m \u001b[38;5;124m'\u001b[39m\u001b[38;5;124mlocalhost\u001b[39m\u001b[38;5;124m'\u001b[39m, user\u001b[38;5;241m=\u001b[39m\u001b[38;5;124m'\u001b[39m\u001b[38;5;124mroot\u001b[39m\u001b[38;5;124m'\u001b[39m, password\u001b[38;5;241m=\u001b[39m\u001b[38;5;124m'\u001b[39m\u001b[38;5;124mYes2000\u001b[39m\u001b[38;5;124m'\u001b[39m, database\u001b[38;5;241m=\u001b[39m\u001b[38;5;124m'\u001b[39m\u001b[38;5;124mhr\u001b[39m\u001b[38;5;124m'\u001b[39m)\n\u001b[0;32m      3\u001b[0m db_hr\n",
      "File \u001b[1;32m~\\anaconda3\\Lib\\site-packages\\mysql\\connector\\pooling.py:322\u001b[0m, in \u001b[0;36mconnect\u001b[1;34m(*args, **kwargs)\u001b[0m\n\u001b[0;32m    319\u001b[0m         \u001b[38;5;28;01mraise\u001b[39;00m \u001b[38;5;167;01mImportError\u001b[39;00m(ERROR_NO_CEXT)\n\u001b[0;32m    321\u001b[0m \u001b[38;5;28;01mif\u001b[39;00m CMySQLConnection \u001b[38;5;129;01mand\u001b[39;00m \u001b[38;5;129;01mnot\u001b[39;00m use_pure:\n\u001b[1;32m--> 322\u001b[0m     \u001b[38;5;28;01mreturn\u001b[39;00m CMySQLConnection(\u001b[38;5;241m*\u001b[39margs, \u001b[38;5;241m*\u001b[39m\u001b[38;5;241m*\u001b[39mkwargs)\n\u001b[0;32m    323\u001b[0m \u001b[38;5;28;01mreturn\u001b[39;00m MySQLConnection(\u001b[38;5;241m*\u001b[39margs, \u001b[38;5;241m*\u001b[39m\u001b[38;5;241m*\u001b[39mkwargs)\n",
      "File \u001b[1;32m~\\anaconda3\\Lib\\site-packages\\mysql\\connector\\connection_cext.py:151\u001b[0m, in \u001b[0;36mCMySQLConnection.__init__\u001b[1;34m(self, **kwargs)\u001b[0m\n\u001b[0;32m    149\u001b[0m \u001b[38;5;28;01mif\u001b[39;00m kwargs:\n\u001b[0;32m    150\u001b[0m     \u001b[38;5;28;01mtry\u001b[39;00m:\n\u001b[1;32m--> 151\u001b[0m         \u001b[38;5;28mself\u001b[39m\u001b[38;5;241m.\u001b[39mconnect(\u001b[38;5;241m*\u001b[39m\u001b[38;5;241m*\u001b[39mkwargs)\n\u001b[0;32m    152\u001b[0m     \u001b[38;5;28;01mexcept\u001b[39;00m \u001b[38;5;167;01mException\u001b[39;00m:\n\u001b[0;32m    153\u001b[0m         \u001b[38;5;28mself\u001b[39m\u001b[38;5;241m.\u001b[39mclose()\n",
      "File \u001b[1;32m~\\anaconda3\\Lib\\site-packages\\mysql\\connector\\abstracts.py:1399\u001b[0m, in \u001b[0;36mMySQLConnectionAbstract.connect\u001b[1;34m(self, **kwargs)\u001b[0m\n\u001b[0;32m   1396\u001b[0m     \u001b[38;5;28mself\u001b[39m\u001b[38;5;241m.\u001b[39mconfig(\u001b[38;5;241m*\u001b[39m\u001b[38;5;241m*\u001b[39mkwargs)\n\u001b[0;32m   1398\u001b[0m \u001b[38;5;28mself\u001b[39m\u001b[38;5;241m.\u001b[39mdisconnect()\n\u001b[1;32m-> 1399\u001b[0m \u001b[38;5;28mself\u001b[39m\u001b[38;5;241m.\u001b[39m_open_connection()\n\u001b[0;32m   1401\u001b[0m charset, collation \u001b[38;5;241m=\u001b[39m (\n\u001b[0;32m   1402\u001b[0m     kwargs\u001b[38;5;241m.\u001b[39mpop(\u001b[38;5;124m\"\u001b[39m\u001b[38;5;124mcharset\u001b[39m\u001b[38;5;124m\"\u001b[39m, \u001b[38;5;28;01mNone\u001b[39;00m),\n\u001b[0;32m   1403\u001b[0m     kwargs\u001b[38;5;241m.\u001b[39mpop(\u001b[38;5;124m\"\u001b[39m\u001b[38;5;124mcollation\u001b[39m\u001b[38;5;124m\"\u001b[39m, \u001b[38;5;28;01mNone\u001b[39;00m),\n\u001b[0;32m   1404\u001b[0m )\n\u001b[0;32m   1405\u001b[0m \u001b[38;5;28;01mif\u001b[39;00m charset \u001b[38;5;129;01mor\u001b[39;00m collation:\n",
      "File \u001b[1;32m~\\anaconda3\\Lib\\site-packages\\mysql\\connector\\connection_cext.py:339\u001b[0m, in \u001b[0;36mCMySQLConnection._open_connection\u001b[1;34m(self)\u001b[0m\n\u001b[0;32m    337\u001b[0m         \u001b[38;5;28mself\u001b[39m\u001b[38;5;241m.\u001b[39mconverter\u001b[38;5;241m.\u001b[39mstr_fallback \u001b[38;5;241m=\u001b[39m \u001b[38;5;28mself\u001b[39m\u001b[38;5;241m.\u001b[39m_converter_str_fallback\n\u001b[0;32m    338\u001b[0m \u001b[38;5;28;01mexcept\u001b[39;00m MySQLInterfaceError \u001b[38;5;28;01mas\u001b[39;00m err:\n\u001b[1;32m--> 339\u001b[0m     \u001b[38;5;28;01mraise\u001b[39;00m get_mysql_exception(\n\u001b[0;32m    340\u001b[0m         msg\u001b[38;5;241m=\u001b[39merr\u001b[38;5;241m.\u001b[39mmsg, errno\u001b[38;5;241m=\u001b[39merr\u001b[38;5;241m.\u001b[39merrno, sqlstate\u001b[38;5;241m=\u001b[39merr\u001b[38;5;241m.\u001b[39msqlstate\n\u001b[0;32m    341\u001b[0m     ) \u001b[38;5;28;01mfrom\u001b[39;00m \u001b[38;5;21;01merr\u001b[39;00m\n\u001b[0;32m    343\u001b[0m \u001b[38;5;28mself\u001b[39m\u001b[38;5;241m.\u001b[39m_do_handshake()\n\u001b[0;32m    345\u001b[0m \u001b[38;5;28;01mif\u001b[39;00m (\n\u001b[0;32m    346\u001b[0m     \u001b[38;5;129;01mnot\u001b[39;00m \u001b[38;5;28mself\u001b[39m\u001b[38;5;241m.\u001b[39m_ssl_disabled\n\u001b[0;32m    347\u001b[0m     \u001b[38;5;129;01mand\u001b[39;00m \u001b[38;5;28mhasattr\u001b[39m(\u001b[38;5;28mself\u001b[39m\u001b[38;5;241m.\u001b[39m_cmysql, \u001b[38;5;124m\"\u001b[39m\u001b[38;5;124mget_ssl_cipher\u001b[39m\u001b[38;5;124m\"\u001b[39m)\n\u001b[1;32m   (...)\u001b[0m\n\u001b[0;32m    352\u001b[0m \n\u001b[0;32m    353\u001b[0m     \u001b[38;5;66;03m# `get_ssl_cipher()` returns the name of the cipher being used.\u001b[39;00m\n",
      "\u001b[1;31mProgrammingError\u001b[0m: 1045 (28000): Access denied for user 'root'@'localhost' (using password: YES)"
     ]
    }
   ],
   "source": [
    "#connecting to the SQL \n",
    "db_hr = sql.connect(host = 'localhost', user='root', password='Yes2000', database='hr')\n",
    "db_hr"
   ]
  },
  {
   "cell_type": "code",
   "execution_count": null,
   "id": "0c8147cc",
   "metadata": {},
   "outputs": [],
   "source": [
    "cursor = db_hr.cursor()"
   ]
  },
  {
   "cell_type": "code",
   "execution_count": null,
   "id": "5103061a",
   "metadata": {},
   "outputs": [],
   "source": [
    "#querting the hr database \n",
    "query = \"select country_name , region_name from countries join regions on countries.region_id = regions.region_id;\"\n",
    "cursor.execute(query)"
   ]
  },
  {
   "cell_type": "code",
   "execution_count": null,
   "id": "cd92fafa",
   "metadata": {},
   "outputs": [],
   "source": [
    "#fetching the all details\n",
    "cursor.fetchall()"
   ]
  },
  {
   "cell_type": "code",
   "execution_count": null,
   "id": "02bc4fb9",
   "metadata": {},
   "outputs": [],
   "source": [
    "# TASK 2 querying the hr data base for the country wise employee count and storing it in to the df1\n",
    "country_wise_emp_count_df1 = pd.read_sql_query(\"\"\"select countries.country_name, count(employee_id) as country_wise_emp_count from employees\n",
    "join departments on employees.department_id = departments.department_id\n",
    "join locations on departments.location_id = locations.location_id\n",
    "join countries on locations.country_id = countries.country_id\n",
    "group by countries.country_name;\"\"\",db_hr)\n",
    "country_wise_emp_count_df1"
   ]
  },
  {
   "cell_type": "code",
   "execution_count": null,
   "id": "70f21eda",
   "metadata": {},
   "outputs": [],
   "source": [
    "pip install pymysql"
   ]
  },
  {
   "cell_type": "code",
   "execution_count": null,
   "id": "1a91b059",
   "metadata": {},
   "outputs": [],
   "source": [
    "from sqlalchemy import create_engine"
   ]
  },
  {
   "cell_type": "code",
   "execution_count": null,
   "id": "ae567fe3",
   "metadata": {},
   "outputs": [],
   "source": [
    "# credentials\n",
    "hostname= 'localhost'\n",
    "dbname= 'db_hr'\n",
    "user= 'root'\n",
    "pwd= 'Yes2000'"
   ]
  },
  {
   "cell_type": "code",
   "execution_count": null,
   "id": "f876ed0e",
   "metadata": {},
   "outputs": [],
   "source": [
    "engine= create_engine(\"mysql+pymysql://{user}:{pwd}@{host}/{db}\".format(user= user, pwd= pwd, host= hostname,db= dbname ))"
   ]
  },
  {
   "cell_type": "code",
   "execution_count": null,
   "id": "9f1f1cb3",
   "metadata": {},
   "outputs": [],
   "source": [
    "#pushing the data to MySql\n",
    "country_wise_emp_count_df1.to_sql(\"country_wise_emp_count1\", engine, index= False)\n",
    "#data is successsfully pushed"
   ]
  },
  {
   "cell_type": "code",
   "execution_count": null,
   "id": "49a8c520",
   "metadata": {},
   "outputs": [],
   "source": [
    "#connecting to the db_hr to fetch the country_wise_emp_count1 tabel, which is just pushed to the MySql\n",
    "#validation step\n",
    "country_wise_emp_count1 = sql.connect(host = 'localhost', user='root', password='Yes2000', database='db_hr')\n",
    "country_wise_emp_count1"
   ]
  },
  {
   "cell_type": "code",
   "execution_count": null,
   "id": "24d4af55",
   "metadata": {},
   "outputs": [],
   "source": [
    "#so, Now we can get the pushed data with out using any joins.\n",
    "cursor.execute(\"SELECT * FROM db_hr.country_wise_emp_count1;\")"
   ]
  },
  {
   "cell_type": "code",
   "execution_count": null,
   "id": "ba8b53fc",
   "metadata": {},
   "outputs": [],
   "source": [
    "#fetching the country_wise_emp_count1 table\n",
    "cursor.fetchall()"
   ]
  },
  {
   "cell_type": "code",
   "execution_count": null,
   "id": "da5dc473",
   "metadata": {},
   "outputs": [],
   "source": [
    "# TASK 3\n",
    "import pandas as pd"
   ]
  },
  {
   "cell_type": "code",
   "execution_count": null,
   "id": "e44b5e60",
   "metadata": {},
   "outputs": [],
   "source": [
    "\n",
    "df1 = pd.read_sql_query(\"\"\"select countries.country_name, count(employee_id) as country_wise_emp_count from employees\n",
    "join departments on employees.department_id = departments.department_id\n",
    "join locations on departments.location_id = locations.location_id\n",
    "join countries on locations.country_id = countries.country_id\n",
    "group by countries.country_name;\"\"\",db_hr)\n",
    "df1"
   ]
  },
  {
   "cell_type": "code",
   "execution_count": null,
   "id": "bf17c66b",
   "metadata": {},
   "outputs": [],
   "source": [
    "df1.to_csv('country_wise_emp_count') #saving as csv file"
   ]
  },
  {
   "cell_type": "code",
   "execution_count": null,
   "id": "525527a3",
   "metadata": {},
   "outputs": [],
   "source": [
    "import matplotlib.pyplot as plt"
   ]
  },
  {
   "cell_type": "code",
   "execution_count": null,
   "id": "fd37fdd3",
   "metadata": {},
   "outputs": [],
   "source": [
    "# Sort the DataFrame by 'country_wise_emp_count'\n",
    "df1_sorted = df1.sort_values(by='country_wise_emp_count', ascending=True)\n",
    "\n",
    "# Define a list of colors\n",
    "colors = ['skyblue', 'lightgreen', 'salmon', 'orange', 'lightcoral']\n",
    "\n",
    "# Create a horizontal bar plot\n",
    "plt.figure(figsize=(10, 6))\n",
    "bars = plt.barh(y=df1_sorted['country_name'], width=df1_sorted['country_wise_emp_count'], color=colors)\n",
    "\n",
    "# Add labels to each bar\n",
    "for bar in bars:\n",
    "    width = bar.get_width()  # Get the width of the bar\n",
    "    plt.text(width + 1, bar.get_y() + bar.get_height() / 2,  # Position of the label\n",
    "             f'{width}',  # Label text\n",
    "             va='center',  # Vertical alignment\n",
    "             ha='left')  # Horizontal alignment\n",
    "\n",
    "plt.title('Country-wise Employee Count')\n",
    "plt.xlabel('Number of Employees')\n",
    "plt.ylabel('Country Names')\n",
    "plt.grid(axis='x', linestyle='--', alpha=0.7)\n",
    "plt.show()\n"
   ]
  },
  {
   "cell_type": "code",
   "execution_count": null,
   "id": "1731ded5",
   "metadata": {},
   "outputs": [],
   "source": [
    "#query that fetch the city_wise_emp_count and stored in a form of df1 dataframe\n",
    "\n",
    "df2 = pd.read_sql_query(\"\"\"select locations.city, count(employee_id) as city_wise_emp_count from employees\n",
    "join departments on employees.department_id = departments.department_id\n",
    "join locations on departments.location_id = locations.location_id\n",
    "join countries on locations.country_id = countries.country_id\n",
    "group by locations.city;\"\"\", db_hr)\n",
    "df2\n"
   ]
  },
  {
   "cell_type": "code",
   "execution_count": null,
   "id": "c89122a6",
   "metadata": {},
   "outputs": [],
   "source": [
    "df2.to_csv('city_wise_emp_count')  #saving as csv file"
   ]
  },
  {
   "cell_type": "code",
   "execution_count": null,
   "id": "24dc0f18",
   "metadata": {},
   "outputs": [],
   "source": [
    "# Sort the DataFrame by 'city_wise_emp_count'\n",
    "df2_sorted = df2.sort_values(by='city_wise_emp_count', ascending=True)\n",
    "\n",
    "# Define a list of colors\n",
    "colors = ['skyblue', 'lightgreen', 'salmon', 'orange', 'lightcoral']\n",
    "\n",
    "# Create a horizontal bar plot\n",
    "plt.figure(figsize=(10, 6))\n",
    "bars = plt.barh(y=df2_sorted['city'], width=df2_sorted['city_wise_emp_count'], color=colors)\n",
    "\n",
    "# Add labels to each bar\n",
    "for bar in bars:\n",
    "    width = bar.get_width()  # Get the width of the bar\n",
    "    plt.text(width + 1, bar.get_y() + bar.get_height() / 2,  # Position of the label\n",
    "             f'{width}',  # Label text\n",
    "             va='center',  # Vertical alignment\n",
    "             ha='left')  # Horizontal alignment\n",
    "\n",
    "plt.title('City-wise Employee Count')\n",
    "plt.xlabel('Number of Employees')\n",
    "plt.ylabel('City Names')\n",
    "plt.grid(axis='x', linestyle='--', alpha=0.7)\n",
    "plt.show()\n"
   ]
  },
  {
   "cell_type": "code",
   "execution_count": null,
   "id": "63d0a2ec",
   "metadata": {},
   "outputs": [],
   "source": []
  }
 ],
 "metadata": {
  "kernelspec": {
   "display_name": "Python 3 (ipykernel)",
   "language": "python",
   "name": "python3"
  },
  "language_info": {
   "codemirror_mode": {
    "name": "ipython",
    "version": 3
   },
   "file_extension": ".py",
   "mimetype": "text/x-python",
   "name": "python",
   "nbconvert_exporter": "python",
   "pygments_lexer": "ipython3",
   "version": "3.11.7"
  }
 },
 "nbformat": 4,
 "nbformat_minor": 5
}
