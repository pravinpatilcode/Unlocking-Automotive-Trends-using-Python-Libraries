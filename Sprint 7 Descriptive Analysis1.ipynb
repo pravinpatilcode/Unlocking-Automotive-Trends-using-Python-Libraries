{
 "cells": [
  {
   "cell_type": "code",
   "execution_count": 1,
   "id": "e50ca325",
   "metadata": {},
   "outputs": [],
   "source": [
    "#importing numpy, matplotlib, statistics & pandas.\n",
    "import numpy as np\n",
    "import pandas as pd\n",
    "import statistics as st\n",
    "import matplotlib.pyplot as plt"
   ]
  },
  {
   "cell_type": "code",
   "execution_count": 3,
   "id": "f12cfa94",
   "metadata": {},
   "outputs": [
    {
     "data": {
      "text/html": [
       "<div>\n",
       "<style scoped>\n",
       "    .dataframe tbody tr th:only-of-type {\n",
       "        vertical-align: middle;\n",
       "    }\n",
       "\n",
       "    .dataframe tbody tr th {\n",
       "        vertical-align: top;\n",
       "    }\n",
       "\n",
       "    .dataframe thead th {\n",
       "        text-align: right;\n",
       "    }\n",
       "</style>\n",
       "<table border=\"1\" class=\"dataframe\">\n",
       "  <thead>\n",
       "    <tr style=\"text-align: right;\">\n",
       "      <th></th>\n",
       "      <th>Statistics</th>\n",
       "      <th>Python</th>\n",
       "      <th>Tableau</th>\n",
       "    </tr>\n",
       "  </thead>\n",
       "  <tbody>\n",
       "    <tr>\n",
       "      <th>0</th>\n",
       "      <td>61</td>\n",
       "      <td>86</td>\n",
       "      <td>66</td>\n",
       "    </tr>\n",
       "    <tr>\n",
       "      <th>1</th>\n",
       "      <td>54</td>\n",
       "      <td>86</td>\n",
       "      <td>72</td>\n",
       "    </tr>\n",
       "    <tr>\n",
       "      <th>2</th>\n",
       "      <td>56</td>\n",
       "      <td>80</td>\n",
       "      <td>78</td>\n",
       "    </tr>\n",
       "    <tr>\n",
       "      <th>3</th>\n",
       "      <td>54</td>\n",
       "      <td>85</td>\n",
       "      <td>45</td>\n",
       "    </tr>\n",
       "    <tr>\n",
       "      <th>4</th>\n",
       "      <td>53</td>\n",
       "      <td>84</td>\n",
       "      <td>68</td>\n",
       "    </tr>\n",
       "    <tr>\n",
       "      <th>...</th>\n",
       "      <td>...</td>\n",
       "      <td>...</td>\n",
       "      <td>...</td>\n",
       "    </tr>\n",
       "    <tr>\n",
       "      <th>95</th>\n",
       "      <td>60</td>\n",
       "      <td>76</td>\n",
       "      <td>64</td>\n",
       "    </tr>\n",
       "    <tr>\n",
       "      <th>96</th>\n",
       "      <td>59</td>\n",
       "      <td>89</td>\n",
       "      <td>70</td>\n",
       "    </tr>\n",
       "    <tr>\n",
       "      <th>97</th>\n",
       "      <td>62</td>\n",
       "      <td>80</td>\n",
       "      <td>46</td>\n",
       "    </tr>\n",
       "    <tr>\n",
       "      <th>98</th>\n",
       "      <td>58</td>\n",
       "      <td>89</td>\n",
       "      <td>74</td>\n",
       "    </tr>\n",
       "    <tr>\n",
       "      <th>99</th>\n",
       "      <td>67</td>\n",
       "      <td>77</td>\n",
       "      <td>70</td>\n",
       "    </tr>\n",
       "  </tbody>\n",
       "</table>\n",
       "<p>100 rows × 3 columns</p>\n",
       "</div>"
      ],
      "text/plain": [
       "    Statistics  Python  Tableau\n",
       "0           61      86       66\n",
       "1           54      86       72\n",
       "2           56      80       78\n",
       "3           54      85       45\n",
       "4           53      84       68\n",
       "..         ...     ...      ...\n",
       "95          60      76       64\n",
       "96          59      89       70\n",
       "97          62      80       46\n",
       "98          58      89       74\n",
       "99          67      77       70\n",
       "\n",
       "[100 rows x 3 columns]"
      ]
     },
     "execution_count": 3,
     "metadata": {},
     "output_type": "execute_result"
    }
   ],
   "source": [
    "# TASK 1\n",
    "df = pd.read_csv('DS1_C4_S8_Students_Scores_Data_Concept-Copy1.csv')\n",
    "df"
   ]
  },
  {
   "cell_type": "code",
   "execution_count": 4,
   "id": "cc6c2cdb",
   "metadata": {},
   "outputs": [
    {
     "name": "stdout",
     "output_type": "stream",
     "text": [
      "Mean :   [60.89, 81.84, 68.02]\n",
      "Median : [60.0, 82.0, 69.0]\n",
      "Mode :   [55, 86, 65]\n"
     ]
    }
   ],
   "source": [
    "#calculating the measure of central tendencies\n",
    "mean = []\n",
    "median = []\n",
    "mode = []\n",
    "\n",
    "for fetch in df.columns:\n",
    "    mean.append(df[fetch].mean())\n",
    "    median.append(df[fetch].median())\n",
    "    mode.append(df[fetch].mode()[0])\n",
    "    \n",
    "print(\"Mean :  \" , mean)\n",
    "print(\"Median :\",median)\n",
    "print(\"Mode :  \",mode)\n",
    "\n"
   ]
  },
  {
   "cell_type": "code",
   "execution_count": 5,
   "id": "d8979abf",
   "metadata": {},
   "outputs": [
    {
     "data": {
      "text/html": [
       "<div>\n",
       "<style scoped>\n",
       "    .dataframe tbody tr th:only-of-type {\n",
       "        vertical-align: middle;\n",
       "    }\n",
       "\n",
       "    .dataframe tbody tr th {\n",
       "        vertical-align: top;\n",
       "    }\n",
       "\n",
       "    .dataframe thead th {\n",
       "        text-align: right;\n",
       "    }\n",
       "</style>\n",
       "<table border=\"1\" class=\"dataframe\">\n",
       "  <thead>\n",
       "    <tr style=\"text-align: right;\">\n",
       "      <th></th>\n",
       "      <th>Statistics</th>\n",
       "      <th>Python</th>\n",
       "      <th>Tableau</th>\n",
       "    </tr>\n",
       "  </thead>\n",
       "  <tbody>\n",
       "    <tr>\n",
       "      <th>Mean</th>\n",
       "      <td>60.89</td>\n",
       "      <td>81.84</td>\n",
       "      <td>68.02</td>\n",
       "    </tr>\n",
       "    <tr>\n",
       "      <th>Median</th>\n",
       "      <td>60.00</td>\n",
       "      <td>82.00</td>\n",
       "      <td>69.00</td>\n",
       "    </tr>\n",
       "    <tr>\n",
       "      <th>Mode</th>\n",
       "      <td>55.00</td>\n",
       "      <td>86.00</td>\n",
       "      <td>65.00</td>\n",
       "    </tr>\n",
       "  </tbody>\n",
       "</table>\n",
       "</div>"
      ],
      "text/plain": [
       "        Statistics  Python  Tableau\n",
       "Mean         60.89   81.84    68.02\n",
       "Median       60.00   82.00    69.00\n",
       "Mode         55.00   86.00    65.00"
      ]
     },
     "execution_count": 5,
     "metadata": {},
     "output_type": "execute_result"
    }
   ],
   "source": [
    "#creating a dataframe\n",
    "stat1 = pd.DataFrame([mean, median,mode], columns=['Statistics','Python','Tableau'], index = ['Mean', 'Median','Mode'])\n",
    "stat1"
   ]
  },
  {
   "cell_type": "code",
   "execution_count": 6,
   "id": "a0491dc1",
   "metadata": {},
   "outputs": [
    {
     "name": "stdout",
     "output_type": "stream",
     "text": [
      "Mean :   [60.89, 81.84, 68.02]\n",
      "Variance : [52.361515151515164, 18.883232323232335, 53.595555555555556]\n",
      "Coefficient of Variation :   [0.11883931187990199, 0.05309731341522791, 0.10762861729450192]\n"
     ]
    }
   ],
   "source": [
    "\n",
    "# TASK 2 Assuming df is your DataFrame\n",
    "mean = []\n",
    "variance = []\n",
    "coefficient_of_variance = []\n",
    "\n",
    "for fetch in df.columns:\n",
    "    mean_value = df[fetch].mean()\n",
    "    variance_value = df[fetch].var()\n",
    "    std_dev = df[fetch].std()\n",
    "    \n",
    "    # Calculate coefficient of variation\n",
    "    if mean_value != 0:  # Avoid division by zero\n",
    "        cv = std_dev / mean_value\n",
    "    else:\n",
    "        cv = float('inf')  # Set to infinity if mean is zero\n",
    "    \n",
    "    mean.append(mean_value)\n",
    "    variance.append(variance_value)\n",
    "    coefficient_of_variance.append(cv)\n",
    "\n",
    "print(\"Mean :  \", mean)\n",
    "print(\"Variance :\", variance)\n",
    "print(\"Coefficient of Variation :  \", coefficient_of_variance)\n"
   ]
  },
  {
   "cell_type": "code",
   "execution_count": 7,
   "id": "f2e8b759",
   "metadata": {},
   "outputs": [],
   "source": [
    "# TASK 3\n",
    "from scipy.stats import skew\n",
    "#the scipy.stats.skew function to determine the skewness of each dataset."
   ]
  },
  {
   "cell_type": "code",
   "execution_count": 8,
   "id": "fc0922bf",
   "metadata": {
    "scrolled": true
   },
   "outputs": [
    {
     "name": "stdout",
     "output_type": "stream",
     "text": [
      "Skewness of each subject:\n",
      "Statistics    0.202446\n",
      "Python        0.120964\n",
      "Tableau      -0.995360\n",
      "dtype: float64\n"
     ]
    }
   ],
   "source": [
    "# Calculate skewness\n",
    "skewness = df.apply(lambda x: skew(x, nan_policy='omit'))\n",
    "\n",
    "print(\"Skewness of each subject:\")\n",
    "print(skewness)"
   ]
  },
  {
   "cell_type": "raw",
   "id": "a3dad031",
   "metadata": {},
   "source": [
    "A positive skewness value indicates that the distribution has a longer right tail.\n",
    "A negative skewness value indicates that the distribution has a longer left tail.\n",
    "A skewness value close to 0 indicates a symmetric distribution."
   ]
  },
  {
   "cell_type": "code",
   "execution_count": 9,
   "id": "bc245257",
   "metadata": {},
   "outputs": [],
   "source": [
    "#Interpretation: Statistics data is  skewed, Statistics is Mostly Skewed when compared with other subjects"
   ]
  },
  {
   "cell_type": "code",
   "execution_count": 10,
   "id": "294e2259",
   "metadata": {},
   "outputs": [
    {
     "name": "stdout",
     "output_type": "stream",
     "text": [
      "['Statistics', [], []]\n",
      "['Python', [], []]\n",
      "['Tableau', [45, 50, 50, 50, 46, 46], []]\n"
     ]
    }
   ],
   "source": [
    "for col in df.columns:\n",
    "    lower_outliers = []\n",
    "    upper_outliers = []\n",
    "    \n",
    "    ser = pd.Series(df[col])\n",
    "    \n",
    "    q1 = ser.quantile(0.25)    #quantile will gives the quartile\n",
    "    q3 = ser.quantile(0.75)\n",
    "    \n",
    "    iqr = q3-q1\n",
    "    LF = q1-1.5*iqr\n",
    "    UF = q3+1.5*iqr\n",
    "    \n",
    "    for i in df[col]:\n",
    "        if i < LF:\n",
    "            lower_outliers.append(i)\n",
    "        elif i >  UF:\n",
    "            upper_outliers.append(i)\n",
    "    \n",
    "    if col=='Statistics':\n",
    "        Statistics = ['Statistics',lower_outliers,upper_outliers]\n",
    "    elif col == 'Python':\n",
    "        Python = ['Python',lower_outliers,upper_outliers]\n",
    "    elif col == 'Tableau':\n",
    "          Tableau = ['Tableau',lower_outliers,upper_outliers]\n",
    "        \n",
    "    \n",
    "print(Statistics)\n",
    "print(Python)\n",
    "print(Tableau)"
   ]
  },
  {
   "cell_type": "code",
   "execution_count": 11,
   "id": "e72c8146",
   "metadata": {},
   "outputs": [
    {
     "data": {
      "text/html": [
       "<div>\n",
       "<style scoped>\n",
       "    .dataframe tbody tr th:only-of-type {\n",
       "        vertical-align: middle;\n",
       "    }\n",
       "\n",
       "    .dataframe tbody tr th {\n",
       "        vertical-align: top;\n",
       "    }\n",
       "\n",
       "    .dataframe thead th {\n",
       "        text-align: right;\n",
       "    }\n",
       "</style>\n",
       "<table border=\"1\" class=\"dataframe\">\n",
       "  <thead>\n",
       "    <tr style=\"text-align: right;\">\n",
       "      <th></th>\n",
       "      <th>Subject</th>\n",
       "      <th>lower_outliers</th>\n",
       "      <th>upper_outliers</th>\n",
       "    </tr>\n",
       "  </thead>\n",
       "  <tbody>\n",
       "    <tr>\n",
       "      <th>0</th>\n",
       "      <td>Statistics</td>\n",
       "      <td>[]</td>\n",
       "      <td>[]</td>\n",
       "    </tr>\n",
       "    <tr>\n",
       "      <th>1</th>\n",
       "      <td>Python</td>\n",
       "      <td>[]</td>\n",
       "      <td>[]</td>\n",
       "    </tr>\n",
       "    <tr>\n",
       "      <th>2</th>\n",
       "      <td>Tableau</td>\n",
       "      <td>[45, 50, 50, 50, 46, 46]</td>\n",
       "      <td>[]</td>\n",
       "    </tr>\n",
       "  </tbody>\n",
       "</table>\n",
       "</div>"
      ],
      "text/plain": [
       "      Subject            lower_outliers upper_outliers\n",
       "0  Statistics                        []             []\n",
       "1      Python                        []             []\n",
       "2     Tableau  [45, 50, 50, 50, 46, 46]             []"
      ]
     },
     "execution_count": 11,
     "metadata": {},
     "output_type": "execute_result"
    }
   ],
   "source": [
    "stat3 = pd.DataFrame([Statistics,Python,Tableau],\n",
    "                    columns = ['Subject','lower_outliers','upper_outliers'])\n",
    "stat3"
   ]
  },
  {
   "cell_type": "code",
   "execution_count": 12,
   "id": "5cb9ec00",
   "metadata": {},
   "outputs": [],
   "source": [
    "#Interpretation: on observing the  Skewness in the Statistics data, we came to know that Statistics data is mostky skewed with outliers.\n",
    "#But, there are outliers in the Tableau data and tableau data is negatively skewed."
   ]
  },
  {
   "cell_type": "code",
   "execution_count": 13,
   "id": "0a7ae296",
   "metadata": {},
   "outputs": [
    {
     "data": {
      "image/png": "[encoded data removed]",
      "text/plain": [
       "<Figure size 1000x600 with 1 Axes>"
      ]
     },
     "metadata": {},
     "output_type": "display_data"
    }
   ],
   "source": [
    "# TASK 4\n",
    "import seaborn as sns\n",
    "import matplotlib.pyplot as plt\n",
    "\n",
    "# Melt the DataFrame for easier plotting with seaborn\n",
    "df_melted = df.melt(var_name='Subject', value_name='Score')\n",
    "\n",
    "# Create the box plots\n",
    "plt.figure(figsize=(10, 6))\n",
    "sns.boxplot(x='Subject', y='Score', data=df_melted)\n",
    "plt.title('Box Plot of Scores for Different Subjects')\n",
    "plt.show()\n"
   ]
  },
  {
   "cell_type": "code",
   "execution_count": 14,
   "id": "42850de6",
   "metadata": {},
   "outputs": [
    {
     "name": "stdout",
     "output_type": "stream",
     "text": [
      "Skewness of each subject:\n",
      "Statistics    0.202446\n",
      "Python        0.120964\n",
      "Tableau      -0.995360\n",
      "dtype: float64\n",
      "The subject with the most skewed scores is: Statistics\n"
     ]
    }
   ],
   "source": [
    "from scipy.stats import skew\n",
    "\n",
    "# Calculate skewness for each subject\n",
    "skewness = df.apply(lambda x: skew(x, nan_policy='omit'))\n",
    "\n",
    "print(\"Skewness of each subject:\")\n",
    "print(skewness)\n",
    "\n",
    "# Identify the subject with the highest absolute skewness\n",
    "most_skewed_subject = skewness.idxmax()\n",
    "print(f\"The subject with the most skewed scores is: {most_skewed_subject}\")\n"
   ]
  },
  {
   "cell_type": "code",
   "execution_count": 15,
   "id": "1aa5e5bc",
   "metadata": {
    "scrolled": false
   },
   "outputs": [
    {
     "data": {
      "image/png": "[encoded data removed]",
      "text/plain": [
       "<Figure size 1200x800 with 1 Axes>"
      ]
     },
     "metadata": {},
     "output_type": "display_data"
    }
   ],
   "source": [
    "# TASK 5\n",
    "import seaborn as sns\n",
    "import matplotlib.pyplot as plt\n",
    "from scipy.stats import norm\n",
    "\n",
    "# Create a figure and axes\n",
    "plt.figure(figsize=(12, 8))\n",
    "\n",
    "# Plot normal distribution curves for each subject\n",
    "for column in df.columns:\n",
    "    # Generate points for the normal distribution curve\n",
    "    x = np.linspace(df[column].min() - 1, df[column].max() + 1, 100)\n",
    "    mean = df[column].mean()\n",
    "    std_dev = df[column].std()\n",
    "    pdf = norm.pdf(x, mean, std_dev)\n",
    "\n",
    "    # Plot the density curve\n",
    "    plt.plot(x, pdf, label=f'{column} - Mean: {mean:.2f}, Std Dev: {std_dev:.2f}')\n",
    "\n",
    "plt.title('Normal Distribution Curves for Each Subject')\n",
    "plt.xlabel('Score')\n",
    "plt.ylabel('Probability Density')\n",
    "plt.legend()\n",
    "plt.grid(True)\n",
    "plt.show()\n"
   ]
  },
  {
   "cell_type": "code",
   "execution_count": 16,
   "id": "11ae152d",
   "metadata": {},
   "outputs": [
    {
     "name": "stdout",
     "output_type": "stream",
     "text": [
      "Kurtosis of each subject:\n",
      "Statistics   -1.289034\n",
      "Python       -1.274853\n",
      "Tableau       1.442459\n",
      "dtype: float64\n"
     ]
    }
   ],
   "source": [
    "from scipy.stats import kurtosis\n",
    "\n",
    "# Calculate kurtosis for each subject\n",
    "kurtosis_values = df.apply(lambda x: kurtosis(x, fisher=True, nan_policy='omit'))\n",
    "\n",
    "print(\"Kurtosis of each subject:\")\n",
    "print(kurtosis_values)\n"
   ]
  },
  {
   "cell_type": "code",
   "execution_count": null,
   "id": "d434bf94",
   "metadata": {},
   "outputs": [],
   "source": []
  },
  {
   "cell_type": "code",
   "execution_count": null,
   "id": "487f3d33",
   "metadata": {},
   "outputs": [],
   "source": []
  },
  {
   "cell_type": "code",
   "execution_count": null,
   "id": "a0e0848f",
   "metadata": {},
   "outputs": [],
   "source": []
  },
  {
   "cell_type": "code",
   "execution_count": null,
   "id": "e05e37c7",
   "metadata": {},
   "outputs": [],
   "source": []
  },
  {
   "cell_type": "code",
   "execution_count": null,
   "id": "cfbebc7e",
   "metadata": {},
   "outputs": [],
   "source": []
  },
  {
   "cell_type": "code",
   "execution_count": null,
   "id": "e896408f",
   "metadata": {},
   "outputs": [],
   "source": []
  }
 ],
 "metadata": {
  "kernelspec": {
   "display_name": "Python 3 (ipykernel)",
   "language": "python",
   "name": "python3"
  },
  "language_info": {
   "codemirror_mode": {
    "name": "ipython",
    "version": 3
   },
   "file_extension": ".py",
   "mimetype": "text/x-python",
   "name": "python",
   "nbconvert_exporter": "python",
   "pygments_lexer": "ipython3",
   "version": "3.11.5"
  }
 },
 "nbformat": 4,
 "nbformat_minor": 5
}
