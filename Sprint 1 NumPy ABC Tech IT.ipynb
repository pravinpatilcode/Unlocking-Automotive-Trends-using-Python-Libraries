{
 "cells": [
  {
   "cell_type": "code",
   "execution_count": 3,
   "id": "88b5339b",
   "metadata": {},
   "outputs": [],
   "source": [
    "# ABC tech IT\n",
    "import numpy as np"
   ]
  },
  {
   "cell_type": "code",
   "execution_count": 5,
   "id": "33684627",
   "metadata": {},
   "outputs": [
    {
     "data": {
      "text/plain": [
       "array([1, 2, 3])"
      ]
     },
     "execution_count": 5,
     "metadata": {},
     "output_type": "execute_result"
    }
   ],
   "source": [
    "# TASK 1\n",
    "emp_id_for_HR = np.arange(1,4,1)\n",
    "emp_id_for_HR"
   ]
  },
  {
   "cell_type": "code",
   "execution_count": 3,
   "id": "7817f3d0",
   "metadata": {},
   "outputs": [
    {
     "data": {
      "text/plain": [
       "array([ 4,  5,  6,  7,  8,  9, 10, 11, 12, 13, 14, 15, 16, 17, 18])"
      ]
     },
     "execution_count": 3,
     "metadata": {},
     "output_type": "execute_result"
    }
   ],
   "source": [
    "emp_id_for_IT = np.arange(4,19,1)\n",
    "emp_id_for_IT"
   ]
  },
  {
   "cell_type": "code",
   "execution_count": 4,
   "id": "a6e23f19",
   "metadata": {},
   "outputs": [
    {
     "data": {
      "text/plain": [
       "array([19, 20, 21, 22, 23])"
      ]
     },
     "execution_count": 4,
     "metadata": {},
     "output_type": "execute_result"
    }
   ],
   "source": [
    "emp_id_for_FINANCE = np.arange(19,24,1)\n",
    "emp_id_for_FINANCE"
   ]
  },
  {
   "cell_type": "code",
   "execution_count": 5,
   "id": "2b03bd93",
   "metadata": {},
   "outputs": [
    {
     "data": {
      "text/plain": [
       "array([24, 25, 26, 27, 28, 29, 30])"
      ]
     },
     "execution_count": 5,
     "metadata": {},
     "output_type": "execute_result"
    }
   ],
   "source": [
    "emp_id_for_SALES = np.arange(24,31,1)\n",
    "emp_id_for_SALES"
   ]
  },
  {
   "cell_type": "code",
   "execution_count": 6,
   "id": "cc55b79e",
   "metadata": {},
   "outputs": [
    {
     "data": {
      "text/plain": [
       "array([50, 60, 57])"
      ]
     },
     "execution_count": 6,
     "metadata": {},
     "output_type": "execute_result"
    }
   ],
   "source": [
    "# TASK 2\n",
    "salary_HR = np.array([50,60,57])\n",
    "salary_HR"
   ]
  },
  {
   "cell_type": "code",
   "execution_count": 7,
   "id": "9b4444ca",
   "metadata": {},
   "outputs": [
    {
     "data": {
      "text/plain": [
       "array([67, 67, 67, 67, 67, 67, 67, 67, 67, 67, 67, 67, 67, 67, 67])"
      ]
     },
     "execution_count": 7,
     "metadata": {},
     "output_type": "execute_result"
    }
   ],
   "source": [
    "salary_IT = np.full(15 , 67)  #creates a NumPy array with 15 elements, each element having the value 67.\n",
    "salary_IT"
   ]
  },
  {
   "cell_type": "code",
   "execution_count": 8,
   "id": "c3efa1ab",
   "metadata": {},
   "outputs": [
    {
     "data": {
      "text/plain": [
       "array([60, 65, 50, 70, 87])"
      ]
     },
     "execution_count": 8,
     "metadata": {},
     "output_type": "execute_result"
    }
   ],
   "source": [
    "salary_FINANCE = np.array([60,65,50,70,87])\n",
    "salary_FINANCE"
   ]
  },
  {
   "cell_type": "code",
   "execution_count": 9,
   "id": "47413b99",
   "metadata": {},
   "outputs": [
    {
     "data": {
      "text/plain": [
       "array([50, 60, 65, 90, 56, 65, 71])"
      ]
     },
     "execution_count": 9,
     "metadata": {},
     "output_type": "execute_result"
    }
   ],
   "source": [
    "salary_SALES = np.array([50,60,65,90,56,65,71])\n",
    "salary_SALES"
   ]
  },
  {
   "cell_type": "code",
   "execution_count": 10,
   "id": "37b3fc12",
   "metadata": {},
   "outputs": [
    {
     "name": "stdout",
     "output_type": "stream",
     "text": [
      "\n",
      "Average salary of employees in HR department is:  55.666666666666664\n",
      "\n",
      "Average salary of employees in IT department is:  67.0\n",
      "\n",
      "Average salary of employees in FINANCE department is:  66.4\n",
      "\n",
      "Average salary of employees in SALES department is:  65.28571428571429\n"
     ]
    }
   ],
   "source": [
    "# TASK 3\n",
    "print(\"\\nAverage salary of employees in HR department is: \" ,salary_HR.mean())\n",
    "print(\"\\nAverage salary of employees in IT department is: \" ,salary_IT.mean()) \n",
    "print(\"\\nAverage salary of employees in FINANCE department is: \" ,salary_FINANCE.mean()) \n",
    "print(\"\\nAverage salary of employees in SALES department is: \" ,salary_SALES.mean()) "
   ]
  },
  {
   "cell_type": "code",
   "execution_count": 11,
   "id": "25961cee",
   "metadata": {},
   "outputs": [
    {
     "name": "stdout",
     "output_type": "stream",
     "text": [
      "\n",
      "Department with the highest average salary expense: IT\n"
     ]
    }
   ],
   "source": [
    "department_expenses = {\n",
    "    'HR': salary_HR.mean(),\n",
    "    'IT': salary_IT.mean(),\n",
    "    'FINANCE': salary_FINANCE.mean(),\n",
    "    'SALES': salary_SALES.mean()}\n",
    "\n",
    "max_department = max(department_expenses, key=department_expenses.get)\n",
    "max_avg_salary = department_expenses[max_department]\n",
    "\n",
    "# printing Department with the highest average salary expense\n",
    "print(\"\\nDepartment with the highest average salary expense:\",max_department)"
   ]
  },
  {
   "cell_type": "code",
   "execution_count": 14,
   "id": "14bf7688",
   "metadata": {},
   "outputs": [
    {
     "name": "stdout",
     "output_type": "stream",
     "text": [
      "\n",
      "Highest Salaries in HR department: 60\n",
      "\n",
      "Highest Salaries in FINANCE department: 87\n"
     ]
    }
   ],
   "source": [
    "# TASK 4\n",
    "#    \n",
    "# Finding the highest salaries in HR departments\n",
    "highest_salary_HR = np.max(salary_HR)             \n",
    "   # Finding the highest salaries in FINANCE departments\n",
    "highest_salary_FINANCE = np.max(salary_FINANCE)\n",
    "\n",
    "print(\"\\nHighest Salaries in HR department:\",highest_salary_HR)\n",
    "print(\"\\nHighest Salaries in FINANCE department:\",highest_salary_FINANCE)"
   ]
  },
  {
   "cell_type": "markdown",
   "id": "916815aa",
   "metadata": {},
   "source": [
    "# TASK 5"
   ]
  },
  {
   "cell_type": "code",
   "execution_count": 15,
   "id": "bdf708ed",
   "metadata": {},
   "outputs": [
    {
     "data": {
      "text/plain": [
       "array([100.5, 100.5, 100.5, 100.5, 100.5, 100.5, 100.5, 100.5, 100.5,\n",
       "       100.5, 100.5, 100.5, 100.5, 100.5, 100.5])"
      ]
     },
     "execution_count": 15,
     "metadata": {},
     "output_type": "execute_result"
    }
   ],
   "source": [
    "   #salaries in  salary_IT*0.5 + salary_IT\n",
    "joining_bonus = salary_IT*0.5 + salary_IT\n",
    "updated_salaries_IT = joining_bonus\n",
    "updated_salaries_IT"
   ]
  },
  {
   "cell_type": "code",
   "execution_count": null,
   "id": "bc6ba4e1",
   "metadata": {},
   "outputs": [],
   "source": []
  }
 ],
 "metadata": {
  "kernelspec": {
   "display_name": "Python 3 (ipykernel)",
   "language": "python",
   "name": "python3"
  },
  "language_info": {
   "codemirror_mode": {
    "name": "ipython",
    "version": 3
   },
   "file_extension": ".py",
   "mimetype": "text/x-python",
   "name": "python",
   "nbconvert_exporter": "python",
   "pygments_lexer": "ipython3",
   "version": "3.11.7"
  }
 },
 "nbformat": 4,
 "nbformat_minor": 5
}
