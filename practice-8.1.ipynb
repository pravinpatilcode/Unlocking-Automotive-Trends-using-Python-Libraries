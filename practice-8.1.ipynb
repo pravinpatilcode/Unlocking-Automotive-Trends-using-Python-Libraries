{
 "cells": [
  {
   "cell_type": "code",
   "execution_count": 1,
   "id": "41cb6989-86ed-4383-8d34-5fabc704aa92",
   "metadata": {},
   "outputs": [
    {
     "data": {
      "text/html": [
       "<div>\n",
       "<style scoped>\n",
       "    .dataframe tbody tr th:only-of-type {\n",
       "        vertical-align: middle;\n",
       "    }\n",
       "\n",
       "    .dataframe tbody tr th {\n",
       "        vertical-align: top;\n",
       "    }\n",
       "\n",
       "    .dataframe thead th {\n",
       "        text-align: right;\n",
       "    }\n",
       "</style>\n",
       "<table border=\"1\" class=\"dataframe\">\n",
       "  <thead>\n",
       "    <tr style=\"text-align: right;\">\n",
       "      <th></th>\n",
       "      <th>Unnamed: 0</th>\n",
       "      <th>Runs</th>\n",
       "      <th>Mins</th>\n",
       "      <th>BF</th>\n",
       "      <th>4s</th>\n",
       "      <th>6s</th>\n",
       "      <th>SR</th>\n",
       "      <th>Pos</th>\n",
       "      <th>Dismissal</th>\n",
       "      <th>Inns</th>\n",
       "      <th>Opposition</th>\n",
       "      <th>Ground</th>\n",
       "      <th>Start Date</th>\n",
       "    </tr>\n",
       "  </thead>\n",
       "  <tbody>\n",
       "    <tr>\n",
       "      <th>0</th>\n",
       "      <td>1</td>\n",
       "      <td>0.0</td>\n",
       "      <td>-</td>\n",
       "      <td>2</td>\n",
       "      <td>0</td>\n",
       "      <td>0</td>\n",
       "      <td>0</td>\n",
       "      <td>5</td>\n",
       "      <td>caught</td>\n",
       "      <td>2</td>\n",
       "      <td>v Pakistan</td>\n",
       "      <td>Gujranwala</td>\n",
       "      <td>18-Dec-89</td>\n",
       "    </tr>\n",
       "    <tr>\n",
       "      <th>1</th>\n",
       "      <td>2</td>\n",
       "      <td>0.0</td>\n",
       "      <td>2</td>\n",
       "      <td>2</td>\n",
       "      <td>0</td>\n",
       "      <td>0</td>\n",
       "      <td>0</td>\n",
       "      <td>5</td>\n",
       "      <td>caught</td>\n",
       "      <td>2</td>\n",
       "      <td>v New Zealand</td>\n",
       "      <td>Dunedin</td>\n",
       "      <td>01-Mar-90</td>\n",
       "    </tr>\n",
       "    <tr>\n",
       "      <th>2</th>\n",
       "      <td>3</td>\n",
       "      <td>36.0</td>\n",
       "      <td>51</td>\n",
       "      <td>39</td>\n",
       "      <td>5</td>\n",
       "      <td>0</td>\n",
       "      <td>92.3</td>\n",
       "      <td>6</td>\n",
       "      <td>caught</td>\n",
       "      <td>1</td>\n",
       "      <td>v New Zealand</td>\n",
       "      <td>Wellington</td>\n",
       "      <td>06-Mar-90</td>\n",
       "    </tr>\n",
       "    <tr>\n",
       "      <th>3</th>\n",
       "      <td>4</td>\n",
       "      <td>19.0</td>\n",
       "      <td>38</td>\n",
       "      <td>35</td>\n",
       "      <td>1</td>\n",
       "      <td>1</td>\n",
       "      <td>54.28</td>\n",
       "      <td>4</td>\n",
       "      <td>bowled</td>\n",
       "      <td>2</td>\n",
       "      <td>v England</td>\n",
       "      <td>Leeds</td>\n",
       "      <td>18-Jul-90</td>\n",
       "    </tr>\n",
       "    <tr>\n",
       "      <th>4</th>\n",
       "      <td>5</td>\n",
       "      <td>31.0</td>\n",
       "      <td>31</td>\n",
       "      <td>26</td>\n",
       "      <td>3</td>\n",
       "      <td>0</td>\n",
       "      <td>119.23</td>\n",
       "      <td>6</td>\n",
       "      <td>bowled</td>\n",
       "      <td>2</td>\n",
       "      <td>v England</td>\n",
       "      <td>Nottingham</td>\n",
       "      <td>20-Jul-90</td>\n",
       "    </tr>\n",
       "  </tbody>\n",
       "</table>\n",
       "</div>"
      ],
      "text/plain": [
       "   Unnamed: 0  Runs Mins  BF 4s 6s      SR Pos Dismissal Inns     Opposition  \\\n",
       "0           1   0.0    -   2  0  0       0   5    caught    2     v Pakistan   \n",
       "1           2   0.0    2   2  0  0       0   5    caught    2  v New Zealand   \n",
       "2           3  36.0   51  39  5  0    92.3   6    caught    1  v New Zealand   \n",
       "3           4  19.0   38  35  1  1   54.28   4    bowled    2      v England   \n",
       "4           5  31.0   31  26  3  0  119.23   6    bowled    2      v England   \n",
       "\n",
       "       Ground Start Date  \n",
       "0  Gujranwala  18-Dec-89  \n",
       "1     Dunedin  01-Mar-90  \n",
       "2  Wellington  06-Mar-90  \n",
       "3       Leeds  18-Jul-90  \n",
       "4  Nottingham  20-Jul-90  "
      ]
     },
     "execution_count": 1,
     "metadata": {},
     "output_type": "execute_result"
    }
   ],
   "source": [
    "#TASK [1]:Loading dataset and displaying.\n",
    "\n",
    "import pandas as pd\n",
    "import numpy as np\n",
    "\n",
    "dataset = pd.read_csv('d:\\DATA SCIENCE-NIIT\\course4-DS using python\\sprint-8\\Practicehelper_8.csv')\n",
    "dataset.head()"
   ]
  },
  {
   "cell_type": "code",
   "execution_count": null,
   "id": "cf07e767-d069-4c55-9961-33b7fdbc721d",
   "metadata": {},
   "outputs": [],
   "source": [
    "\"\"\"Interpretation: loaded and displayed dataset.\"\"\""
   ]
  },
  {
   "cell_type": "code",
   "execution_count": 3,
   "id": "f74fa5b2-b49a-4f99-bc2c-e5a9eb5a5673",
   "metadata": {},
   "outputs": [
    {
     "data": {
      "text/html": [
       "<div>\n",
       "<style scoped>\n",
       "    .dataframe tbody tr th:only-of-type {\n",
       "        vertical-align: middle;\n",
       "    }\n",
       "\n",
       "    .dataframe tbody tr th {\n",
       "        vertical-align: top;\n",
       "    }\n",
       "\n",
       "    .dataframe thead th {\n",
       "        text-align: right;\n",
       "    }\n",
       "</style>\n",
       "<table border=\"1\" class=\"dataframe\">\n",
       "  <thead>\n",
       "    <tr style=\"text-align: right;\">\n",
       "      <th></th>\n",
       "      <th>Runs</th>\n",
       "      <th>BF</th>\n",
       "      <th>4s</th>\n",
       "      <th>6s</th>\n",
       "    </tr>\n",
       "  </thead>\n",
       "  <tbody>\n",
       "    <tr>\n",
       "      <th>0</th>\n",
       "      <td>0.0</td>\n",
       "      <td>2</td>\n",
       "      <td>0</td>\n",
       "      <td>0</td>\n",
       "    </tr>\n",
       "    <tr>\n",
       "      <th>1</th>\n",
       "      <td>0.0</td>\n",
       "      <td>2</td>\n",
       "      <td>0</td>\n",
       "      <td>0</td>\n",
       "    </tr>\n",
       "    <tr>\n",
       "      <th>2</th>\n",
       "      <td>36.0</td>\n",
       "      <td>39</td>\n",
       "      <td>5</td>\n",
       "      <td>0</td>\n",
       "    </tr>\n",
       "    <tr>\n",
       "      <th>3</th>\n",
       "      <td>19.0</td>\n",
       "      <td>35</td>\n",
       "      <td>1</td>\n",
       "      <td>1</td>\n",
       "    </tr>\n",
       "    <tr>\n",
       "      <th>4</th>\n",
       "      <td>31.0</td>\n",
       "      <td>26</td>\n",
       "      <td>3</td>\n",
       "      <td>0</td>\n",
       "    </tr>\n",
       "  </tbody>\n",
       "</table>\n",
       "</div>"
      ],
      "text/plain": [
       "   Runs  BF 4s 6s\n",
       "0   0.0   2  0  0\n",
       "1   0.0   2  0  0\n",
       "2  36.0  39  5  0\n",
       "3  19.0  35  1  1\n",
       "4  31.0  26  3  0"
      ]
     },
     "execution_count": 3,
     "metadata": {},
     "output_type": "execute_result"
    }
   ],
   "source": [
    "#TASK 1.2: \n",
    "data = dataset[['Runs', 'BF', '4s', '6s']]\n",
    "data.head()"
   ]
  },
  {
   "cell_type": "code",
   "execution_count": null,
   "id": "8d4a3512-a0ed-4533-b6cf-842b7c4882a6",
   "metadata": {},
   "outputs": [],
   "source": [
    "\"\"\"Interpretation:specified columns are extracted.\"\"\""
   ]
  },
  {
   "cell_type": "code",
   "execution_count": 5,
   "id": "fba6f89a-8a15-48d3-8365-1fa9ed02c0bf",
   "metadata": {},
   "outputs": [
    {
     "data": {
      "text/html": [
       "<div>\n",
       "<style scoped>\n",
       "    .dataframe tbody tr th:only-of-type {\n",
       "        vertical-align: middle;\n",
       "    }\n",
       "\n",
       "    .dataframe tbody tr th {\n",
       "        vertical-align: top;\n",
       "    }\n",
       "\n",
       "    .dataframe thead th {\n",
       "        text-align: right;\n",
       "    }\n",
       "</style>\n",
       "<table border=\"1\" class=\"dataframe\">\n",
       "  <thead>\n",
       "    <tr style=\"text-align: right;\">\n",
       "      <th></th>\n",
       "      <th>Runs</th>\n",
       "      <th>BF</th>\n",
       "      <th>4s</th>\n",
       "      <th>6s</th>\n",
       "    </tr>\n",
       "  </thead>\n",
       "  <tbody>\n",
       "    <tr>\n",
       "      <th>0</th>\n",
       "      <td>0.0</td>\n",
       "      <td>2</td>\n",
       "      <td>0</td>\n",
       "      <td>0</td>\n",
       "    </tr>\n",
       "    <tr>\n",
       "      <th>1</th>\n",
       "      <td>0.0</td>\n",
       "      <td>2</td>\n",
       "      <td>0</td>\n",
       "      <td>0</td>\n",
       "    </tr>\n",
       "    <tr>\n",
       "      <th>2</th>\n",
       "      <td>36.0</td>\n",
       "      <td>39</td>\n",
       "      <td>5</td>\n",
       "      <td>0</td>\n",
       "    </tr>\n",
       "    <tr>\n",
       "      <th>3</th>\n",
       "      <td>19.0</td>\n",
       "      <td>35</td>\n",
       "      <td>1</td>\n",
       "      <td>1</td>\n",
       "    </tr>\n",
       "    <tr>\n",
       "      <th>4</th>\n",
       "      <td>31.0</td>\n",
       "      <td>26</td>\n",
       "      <td>3</td>\n",
       "      <td>0</td>\n",
       "    </tr>\n",
       "  </tbody>\n",
       "</table>\n",
       "</div>"
      ],
      "text/plain": [
       "   Runs  BF 4s 6s\n",
       "0   0.0   2  0  0\n",
       "1   0.0   2  0  0\n",
       "2  36.0  39  5  0\n",
       "3  19.0  35  1  1\n",
       "4  31.0  26  3  0"
      ]
     },
     "execution_count": 5,
     "metadata": {},
     "output_type": "execute_result"
    }
   ],
   "source": [
    "#TASK 1.3: \n",
    "data = data.dropna(subset=['Runs', 'BF', '4s', '6s'])\n",
    "data.head()"
   ]
  },
  {
   "cell_type": "code",
   "execution_count": null,
   "id": "72c32b22-5ae1-48e0-a537-0cd7e50beaa7",
   "metadata": {},
   "outputs": [],
   "source": [
    "\"\"\"Interpretation:  null values are deleted from the extracted columns.\"\"\""
   ]
  },
  {
   "cell_type": "code",
   "execution_count": 7,
   "id": "4f441a54-3dd2-4a4f-9e15-27720e9ab9e5",
   "metadata": {},
   "outputs": [
    {
     "data": {
      "text/plain": [
       "Runs    int32\n",
       "BF      int32\n",
       "4s      int32\n",
       "6s      int32\n",
       "dtype: object"
      ]
     },
     "execution_count": 7,
     "metadata": {},
     "output_type": "execute_result"
    }
   ],
   "source": [
    "#TASK 1.4:\n",
    "\n",
    "data['Runs'] = data['Runs'].astype(int)\n",
    "data['BF'] = data['BF'].astype(int)\n",
    "data['4s'] = data['4s'].astype(int)\n",
    "data['6s'] = data['6s'].astype(int)\n",
    "data.dtypes"
   ]
  },
  {
   "cell_type": "code",
   "execution_count": null,
   "id": "317b6910-a247-429e-bd81-1e183985f564",
   "metadata": {},
   "outputs": [],
   "source": [
    "\"\"\"Interpretation: data from extracted columns are converted to correct data types.\"\"\""
   ]
  },
  {
   "cell_type": "code",
   "execution_count": 11,
   "id": "a2ea747e-791d-4b81-88a2-424b3922d1b5",
   "metadata": {},
   "outputs": [
    {
     "name": "stdout",
     "output_type": "stream",
     "text": [
      "Mean of Runs: 39.4486301369863\n",
      "Median of Runs: 27.5\n",
      "Mode of Runs: 1\n",
      "\n",
      "Mean of BF: 46.33904109589041\n",
      "Median of BF: 32.5\n",
      "Mode of BF: 11\n",
      "\n",
      "Mean of 4s: 4.506849315068493\n",
      "Median of 4s: 3.0\n",
      "Mode of 4s: 0\n",
      "\n",
      "Mean of 6s: 0.3424657534246575\n",
      "Median of 6s: 0.0\n",
      "Mode of 6s: 0\n"
     ]
    }
   ],
   "source": [
    "#TASK 2:\n",
    "\n",
    "import numpy as np\n",
    "import pandas as pd\n",
    "\n",
    "mean_runs = np.mean(data['Runs'])\n",
    "median_runs = np.median(data['Runs'])\n",
    "mode_runs = data['Runs'].mode()[0]\n",
    "print(\"Mean of Runs:\", mean_runs)\n",
    "print(\"Median of Runs:\", median_runs)\n",
    "print(\"Mode of Runs:\", mode_runs)\n",
    "\n",
    "mean_bf = np.mean(data['BF'])\n",
    "median_bf = np.median(data['BF'])\n",
    "mode_bf = data['BF'].mode()[0]\n",
    "print(\"\\nMean of BF:\", mean_bf)\n",
    "print(\"Median of BF:\", median_bf)\n",
    "print(\"Mode of BF:\", mode_bf)\n",
    "\n",
    "mean_fours = np.mean(data['4s'])\n",
    "median_fours = np.median(data['4s'])\n",
    "mode_fours = data['4s'].mode()[0]\n",
    "print(\"\\nMean of 4s:\", mean_fours)\n",
    "print(\"Median of 4s:\", median_fours)\n",
    "print(\"Mode of 4s:\", mode_fours)\n",
    "\n",
    "mean_sixes = np.mean(data['6s'])\n",
    "median_sixes = np.median(data['6s'])\n",
    "mode_sixes = data['6s'].mode()[0]\n",
    "print(\"\\nMean of 6s:\", mean_sixes)\n",
    "print(\"Median of 6s:\", median_sixes)\n",
    "print(\"Mode of 6s:\", mode_sixes)"
   ]
  },
  {
   "cell_type": "code",
   "execution_count": null,
   "id": "07b07202-8679-41cb-98cc-b9524089cc16",
   "metadata": {},
   "outputs": [],
   "source": [
    "\"\"\"Interpretation: mean,median,mode are calculated for the extracted columns.\"\"\""
   ]
  },
  {
   "cell_type": "code",
   "execution_count": 17,
   "id": "346d36f8-0f76-4287-9d29-2e3a1fe6338d",
   "metadata": {},
   "outputs": [
    {
     "name": "stdout",
     "output_type": "stream",
     "text": [
      "Variance of Runs: 1589.2131145618314\n",
      "Standard Deviation of Runs: 39.86493590314465\n",
      "\n",
      "Variance of BF: 1575.2720374366686\n",
      "Standard Deviation of BF: 39.68969686753312\n",
      "\n",
      "Variance of 4s: 22.297898292362557\n",
      "Standard Deviation of 4s: 4.722065045333721\n",
      "\n",
      "Variance of 6s: 0.745730906361421\n",
      "Standard Deviation of 6s: 0.8635571239712061\n"
     ]
    }
   ],
   "source": [
    "#TASK 3:\n",
    "\n",
    "var_runs = np.var(data['Runs'])\n",
    "std_runs = np.std(data['Runs'])\n",
    "var_bf = np.var(data['BF'])\n",
    "std_bf = np.std(data['BF'])\n",
    "var_fours = np.var(data['4s'])\n",
    "std_fours = np.std(data['4s'])\n",
    "var_sixes = np.var(data['6s'])\n",
    "std_sixes = np.std(data['6s'])\n",
    "print(\"Variance of Runs:\", var_runs)\n",
    "print(\"Standard Deviation of Runs:\", std_runs)\n",
    "print(\"\\nVariance of BF:\", var_bf)\n",
    "print(\"Standard Deviation of BF:\", std_bf)\n",
    "print(\"\\nVariance of 4s:\", var_fours)\n",
    "print(\"Standard Deviation of 4s:\", std_fours)\n",
    "print(\"\\nVariance of 6s:\", var_sixes)\n",
    "print(\"Standard Deviation of 6s:\", std_sixes)\n"
   ]
  },
  {
   "cell_type": "code",
   "execution_count": null,
   "id": "5ae6002c-51d2-45b4-bc91-04b041543477",
   "metadata": {},
   "outputs": [],
   "source": [
    "\"\"\"Interpretation: variance and standard deviation are calculated for the extracted columns.\"\"\""
   ]
  },
  {
   "cell_type": "code",
   "execution_count": 19,
   "id": "fab4eb5d-8694-4939-aa7f-7cf1a5725770",
   "metadata": {},
   "outputs": [
    {
     "name": "stdout",
     "output_type": "stream",
     "text": [
      "Kurtosis of Runs: 1.325522826299455\n",
      "Kurtosis of BF: -0.07960068516467134\n",
      "Kurtosis of 4s: 1.1859569352122818\n",
      "Kurtosis of 6s: 18.90438257582186\n"
     ]
    }
   ],
   "source": [
    "#TASK 4: Calculating kurtosis\n",
    "\n",
    "import scipy.stats as stats\n",
    "kurtosis_runs = stats.kurtosis(data['Runs'])\n",
    "kurtosis_bf = stats.kurtosis(data['BF'])\n",
    "kurtosis_fours = stats.kurtosis(data['4s'])\n",
    "kurtosis_sixes = stats.kurtosis(data['6s'])\n",
    "print(\"Kurtosis of Runs:\", kurtosis_runs)\n",
    "print(\"Kurtosis of BF:\", kurtosis_bf)\n",
    "print(\"Kurtosis of 4s:\", kurtosis_fours)\n",
    "print(\"Kurtosis of 6s:\", kurtosis_sixes)"
   ]
  },
  {
   "cell_type": "code",
   "execution_count": null,
   "id": "8567bb2a-2fc0-4127-b67d-73e4e3358533",
   "metadata": {},
   "outputs": [],
   "source": [
    "\"\"\"Interpretation: kurtosis is calculated for the extracted columns.\"\"\""
   ]
  },
  {
   "cell_type": "code",
   "execution_count": 33,
   "id": "99cbffa4-fbc7-4e8d-bb38-e522e88bb971",
   "metadata": {},
   "outputs": [
    {
     "data": {
      "image/png": "[encoded data removed]",
      "text/plain": [
       "<Figure size 1000x600 with 1 Axes>"
      ]
     },
     "metadata": {},
     "output_type": "display_data"
    }
   ],
   "source": [
    "#TASK 5:\n",
    "\n",
    "import matplotlib.pyplot as plt\n",
    "plt.figure(figsize=(10,6))\n",
    "plt.boxplot([data['Runs'], data['BF'], data['4s'], data['6s']])\n",
    "plt.xticks([1, 2, 3, 4], ['Runs', 'BF', '4s', '6s'])\n",
    "plt.title('Distribution of Extracted Columns')\n",
    "plt.show()\n"
   ]
  },
  {
   "cell_type": "code",
   "execution_count": null,
   "id": "be5074a5-3300-43de-9741-9e5e6ae2d034",
   "metadata": {},
   "outputs": [],
   "source": [
    "\"\"\"Interpretation: box plot distribution for extracted columns.\"\"\""
   ]
  }
 ],
 "metadata": {
  "kernelspec": {
   "display_name": "Python 3 (ipykernel)",
   "language": "python",
   "name": "python3"
  },
  "language_info": {
   "codemirror_mode": {
    "name": "ipython",
    "version": 3
   },
   "file_extension": ".py",
   "mimetype": "text/x-python",
   "name": "python",
   "nbconvert_exporter": "python",
   "pygments_lexer": "ipython3",
   "version": "3.11.7"
  }
 },
 "nbformat": 4,
 "nbformat_minor": 5
}
